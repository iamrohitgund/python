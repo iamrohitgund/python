{
  "nbformat": 4,
  "nbformat_minor": 0,
  "metadata": {
    "colab": {
      "name": "AlgoMonster.ipynb",
      "provenance": [],
      "authorship_tag": "ABX9TyMtcDODoewK5DRkgTN47jUu",
      "include_colab_link": true
    },
    "kernelspec": {
      "name": "python3",
      "display_name": "Python 3"
    },
    "language_info": {
      "name": "python"
    }
  },
  "cells": [
    {
      "cell_type": "markdown",
      "metadata": {
        "id": "view-in-github",
        "colab_type": "text"
      },
      "source": [
        "<a href=\"https://colab.research.google.com/github/iamrohitgund/python/blob/master/AlgoMonster.ipynb\" target=\"_parent\"><img src=\"https://colab.research.google.com/assets/colab-badge.svg\" alt=\"Open In Colab\"/></a>"
      ]
    },
    {
      "cell_type": "code",
      "metadata": {
        "colab": {
          "base_uri": "https://localhost:8080/"
        },
        "id": "I7j0RI9RFatO",
        "outputId": "a792c4a9-a105-405b-b393-a21fda3fb048"
      },
      "source": [
        "arr = ['false', 'false', 'true', 'true', 'true']\n",
        "\n",
        "mid= 0\n",
        "if arr[mid] ==' true':\n",
        "  print('this is true')\n",
        "else:\n",
        "  print('false')"
      ],
      "execution_count": null,
      "outputs": [
        {
          "output_type": "stream",
          "text": [
            "false\n"
          ],
          "name": "stdout"
        }
      ]
    },
    {
      "cell_type": "code",
      "metadata": {
        "id": "QyiK9CZJFku7",
        "colab": {
          "base_uri": "https://localhost:8080/"
        },
        "outputId": "afbd2ef0-f62a-414d-d4e8-51e227da470a"
      },
      "source": [
        "def bubble_sort(data):\n",
        "    swapped = True\n",
        "    while swapped:\n",
        "        swapped = False\n",
        "        for i in range(len(data)-1):\n",
        "            if data[i] > data[i+1]:\n",
        "                data[i], data[i+1] = data[i+1], data[i]\n",
        "                swapped = True\n",
        "    \n",
        "if __name__ == '__main__':\n",
        "    data = [9, 1, 7, 6, 2, 8, 5, 3, 4, 0]\n",
        "    print(data)\n",
        "    bubble_sort(data)\n",
        "    print(data)"
      ],
      "execution_count": null,
      "outputs": [
        {
          "output_type": "stream",
          "text": [
            "[9, 1, 7, 6, 2, 8, 5, 3, 4, 0]\n",
            "[0, 1, 2, 3, 4, 5, 6, 7, 8, 9]\n"
          ],
          "name": "stdout"
        }
      ]
    },
    {
      "cell_type": "code",
      "metadata": {
        "id": "tr5dYA_5ndZ5",
        "colab": {
          "base_uri": "https://localhost:8080/"
        },
        "outputId": "ec952355-1b2a-4b74-e245-2b9898290676"
      },
      "source": [
        "a = len(set('abcabccab'))\n",
        "print(a)"
      ],
      "execution_count": 3,
      "outputs": [
        {
          "output_type": "stream",
          "text": [
            "3\n"
          ],
          "name": "stdout"
        }
      ]
    },
    {
      "cell_type": "code",
      "metadata": {
        "id": "WYAyzdY3sldr"
      },
      "source": [
        ""
      ],
      "execution_count": null,
      "outputs": []
    }
  ]
}