{
 "cells": [
  {
   "cell_type": "code",
   "execution_count": 1,
   "metadata": {},
   "outputs": [
    {
     "name": "stdout",
     "output_type": "stream",
     "text": [
      "4\n",
      "4.4\n",
      "the best\n",
      "8\n",
      "8.4\n",
      "HackerRank the best\n"
     ]
    }
   ],
   "source": [
    "\n",
    "i = 4\n",
    "d = 4.0\n",
    "s = 'HackerRank '\n",
    "\n",
    "# Declare second integer, double, and String variables.\n",
    "\n",
    "# Read and save an integer, double, and String to your variables.\n",
    "i2 = int(input())\n",
    "d2 = float(input())\n",
    "s2 = input()\n",
    "# Print the sum of both integer variables on a new line.\n",
    "print(i + i2)\n",
    "# Print the sum of the double variables on a new line.\n",
    "print(d + d2)\n",
    "# Concatenate and print the String variables on a new line\n",
    "print(s + s2)\n",
    "# The 's' variable above should be printed first."
   ]
  },
  {
   "cell_type": "code",
   "execution_count": 2,
   "metadata": {},
   "outputs": [
    {
     "name": "stdout",
     "output_type": "stream",
     "text": [
      "12\n",
      "20\n",
      "10\n",
      "16\n"
     ]
    }
   ],
   "source": [
    "#taking as input\n",
    "\n",
    "mealCost = float(input())\n",
    "tipPercent = int(input())\n",
    "taxPercent = int (input())\n",
    "\n",
    "#calculation\n",
    "\n",
    "cost = mealCost * (1+(tipPercent+taxPercent)/100)\n",
    "\n",
    "\n",
    "totalCost = round(cost)\n",
    "\n",
    "print (str(totalCost))"
   ]
  },
  {
   "cell_type": "markdown",
   "metadata": {},
   "source": [
    "Task\n",
    "Given an integer, , perform the following conditional actions:\n",
    "\n",
    "If  is odd, print Weird\n",
    "If  is even and in the inclusive range of  to , print Not Weird\n",
    "If  is even and in the inclusive range of  to , print Weird\n",
    "If  is even and greater than , print Not Weird\n",
    "Complete the stub code provided in your editor to print whether or not  is weird.\n",
    "\n",
    "Input Format\n",
    "\n",
    "A single line containing a positive integer, .\n",
    "\n",
    "Constraints\n",
    "\n",
    "Output Format\n",
    "\n",
    "Print Weird if the number is weird; otherwise, print Not Weird."
   ]
  },
  {
   "cell_type": "code",
   "execution_count": null,
   "metadata": {},
   "outputs": [],
   "source": []
  }
 ],
 "metadata": {
  "kernelspec": {
   "display_name": "Python 3",
   "language": "python",
   "name": "python3"
  },
  "language_info": {
   "codemirror_mode": {
    "name": "ipython",
    "version": 3
   },
   "file_extension": ".py",
   "mimetype": "text/x-python",
   "name": "python",
   "nbconvert_exporter": "python",
   "pygments_lexer": "ipython3",
   "version": "3.7.3"
  }
 },
 "nbformat": 4,
 "nbformat_minor": 2
}
