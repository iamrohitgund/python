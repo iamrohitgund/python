{
  "nbformat": 4,
  "nbformat_minor": 0,
  "metadata": {
    "colab": {
      "name": "PyPractice.ipynb",
      "provenance": [],
      "collapsed_sections": [],
      "authorship_tag": "ABX9TyP7+0fPK15eEkzim8NPVbH7",
      "include_colab_link": true
    },
    "kernelspec": {
      "name": "python3",
      "display_name": "Python 3"
    }
  },
  "cells": [
    {
      "cell_type": "markdown",
      "metadata": {
        "id": "view-in-github",
        "colab_type": "text"
      },
      "source": [
        "<a href=\"https://colab.research.google.com/github/iamrohitgund/python/blob/master/PyPractice.ipynb\" target=\"_parent\"><img src=\"https://colab.research.google.com/assets/colab-badge.svg\" alt=\"Open In Colab\"/></a>"
      ]
    },
    {
      "cell_type": "code",
      "metadata": {
        "id": "MzKb0Bykq3Tg"
      },
      "source": [
        "def sum(l):\n",
        "  summ = 0\n",
        "  for i in l:\n",
        "    summ = summ + i\n",
        "  n = len(l)\n",
        "  return summ / n"
      ],
      "execution_count": 33,
      "outputs": []
    },
    {
      "cell_type": "code",
      "metadata": {
        "id": "jlcS-_EXrI4y"
      },
      "source": [
        "l = [1,2,10,20,30,40]"
      ],
      "execution_count": 34,
      "outputs": []
    },
    {
      "cell_type": "code",
      "metadata": {
        "colab": {
          "base_uri": "https://localhost:8080/"
        },
        "id": "i2yZyQZVrLe8",
        "outputId": "0593d4c7-f651-493f-e90f-09dc8a4863b2"
      },
      "source": [
        "sum(l)"
      ],
      "execution_count": 35,
      "outputs": [
        {
          "output_type": "execute_result",
          "data": {
            "text/plain": [
              "17.166666666666668"
            ]
          },
          "metadata": {
            "tags": []
          },
          "execution_count": 35
        }
      ]
    },
    {
      "cell_type": "code",
      "metadata": {
        "id": "spFKfv7ArMbV"
      },
      "source": [
        "def getEvenOdd(l):\n",
        "  even = []\n",
        "  odd = []\n",
        "  for i in l:\n",
        "    if i % 2 == 0:\n",
        "      even.append(i)\n",
        "    else:\n",
        "      odd.append(i)\n",
        "  return even, odd"
      ],
      "execution_count": 36,
      "outputs": []
    },
    {
      "cell_type": "code",
      "metadata": {
        "colab": {
          "base_uri": "https://localhost:8080/"
        },
        "id": "WQLV0dQAsyHI",
        "outputId": "b3bff474-21aa-4037-bfa2-7df6ec8e717c"
      },
      "source": [
        "getEvenOdd(l)"
      ],
      "execution_count": 37,
      "outputs": [
        {
          "output_type": "execute_result",
          "data": {
            "text/plain": [
              "([2, 10, 20, 30, 40], [1])"
            ]
          },
          "metadata": {
            "tags": []
          },
          "execution_count": 37
        }
      ]
    },
    {
      "cell_type": "code",
      "metadata": {
        "id": "aBTl7PKitKsK"
      },
      "source": [
        "l2 = [ x for x in range(11) if x %2 == 0]"
      ],
      "execution_count": 38,
      "outputs": []
    },
    {
      "cell_type": "code",
      "metadata": {
        "colab": {
          "base_uri": "https://localhost:8080/"
        },
        "id": "SEoDeVUEynGH",
        "outputId": "484fc49f-c8e9-4822-f60a-af51aa38ef09"
      },
      "source": [
        "l2"
      ],
      "execution_count": 39,
      "outputs": [
        {
          "output_type": "execute_result",
          "data": {
            "text/plain": [
              "[0, 2, 4, 6, 8, 10]"
            ]
          },
          "metadata": {
            "tags": []
          },
          "execution_count": 39
        }
      ]
    },
    {
      "cell_type": "code",
      "metadata": {
        "id": "K5H3wAb9yqt5"
      },
      "source": [
        "l4 = [\"geek\",\"for\",\"geek\"]\n",
        "l3 = [x.upper() for x in l4 if x.startswith(\"g\")]"
      ],
      "execution_count": 40,
      "outputs": []
    },
    {
      "cell_type": "code",
      "metadata": {
        "colab": {
          "base_uri": "https://localhost:8080/"
        },
        "id": "l4YQW4YP0FK0",
        "outputId": "1930e5d3-567b-4b42-e529-f3566e5a5c9e"
      },
      "source": [
        "l3"
      ],
      "execution_count": 41,
      "outputs": [
        {
          "output_type": "execute_result",
          "data": {
            "text/plain": [
              "['GEEK', 'GEEK']"
            ]
          },
          "metadata": {
            "tags": []
          },
          "execution_count": 41
        }
      ]
    },
    {
      "cell_type": "code",
      "metadata": {
        "colab": {
          "base_uri": "https://localhost:8080/"
        },
        "id": "vpoKblRj0bgG",
        "outputId": "b1d8d0ae-e4e4-4417-a546-f4be1f78b779"
      },
      "source": [
        "l5 = {x for x in l if x %2 == 0}\n",
        "print(l5)"
      ],
      "execution_count": 45,
      "outputs": [
        {
          "output_type": "stream",
          "text": [
            "{2, 40, 10, 20, 30}\n"
          ],
          "name": "stdout"
        }
      ]
    },
    {
      "cell_type": "code",
      "metadata": {
        "colab": {
          "base_uri": "https://localhost:8080/"
        },
        "id": "eJV6fY4M004X",
        "outputId": "e08a969a-8d43-43f1-e8a6-22b0ac0d87cb"
      },
      "source": [
        "d1 = {x:x ** 3 for x in l}\n",
        "print(d1)"
      ],
      "execution_count": 46,
      "outputs": [
        {
          "output_type": "stream",
          "text": [
            "{1: 1, 2: 8, 10: 1000, 20: 8000, 30: 27000, 40: 64000}\n"
          ],
          "name": "stdout"
        }
      ]
    },
    {
      "cell_type": "code",
      "metadata": {
        "colab": {
          "base_uri": "https://localhost:8080/"
        },
        "id": "rbWEqwH617z8",
        "outputId": "45a345b2-5ae4-411d-ab34-f5ecbab89b31"
      },
      "source": [
        "d2 = {x : f\"ID[x]\" for x in range(5)}\n",
        "print(d2)"
      ],
      "execution_count": 51,
      "outputs": [
        {
          "output_type": "stream",
          "text": [
            "{0: 'ID[x]', 1: 'ID[x]', 2: 'ID[x]', 3: 'ID[x]', 4: 'ID[x]'}\n"
          ],
          "name": "stdout"
        }
      ]
    },
    {
      "cell_type": "code",
      "metadata": {
        "colab": {
          "base_uri": "https://localhost:8080/"
        },
        "id": "Vnlp4Cv22D9w",
        "outputId": "c94e4f98-8361-4af6-d2b4-a797c8a68bee"
      },
      "source": [
        "#better way to merge two list into dict\n",
        "# alt way for dict3 = [list1: list2 for i in range(len(list1))]\n",
        "\n",
        "list1 = [1,2,3]\n",
        "list2 = [10,20,30]\n",
        "\n",
        "dict3 = dict(zip(list1,list2))\n",
        "\n",
        "print(dict3)"
      ],
      "execution_count": 52,
      "outputs": [
        {
          "output_type": "stream",
          "text": [
            "{1: 10, 2: 20, 3: 30}\n"
          ],
          "name": "stdout"
        }
      ]
    },
    {
      "cell_type": "code",
      "metadata": {
        "colab": {
          "base_uri": "https://localhost:8080/"
        },
        "id": "17k0LYwn3MNE",
        "outputId": "d0feefd8-3e10-490f-9d3e-05b0e16cca74"
      },
      "source": [
        "# reversing of a dictionary using dict comprehension\n",
        "d11 = {1: 10, 2: 20, 3: 30}\n",
        "d22 = {v : k for (k,v) in d11.items()}\n",
        "print(d22)\n"
      ],
      "execution_count": 60,
      "outputs": [
        {
          "output_type": "stream",
          "text": [
            "{10: 1, 20: 2, 30: 3}\n"
          ],
          "name": "stdout"
        }
      ]
    },
    {
      "cell_type": "code",
      "metadata": {
        "id": "P7GRqN8d37RU"
      },
      "source": [
        "a_dictionary = {\"a\": 1, \"b\": 2}\n",
        "\n",
        "reversed_dictionary = {value : key for (key, value) in a_dictionary.items()}"
      ],
      "execution_count": 58,
      "outputs": []
    },
    {
      "cell_type": "code",
      "metadata": {
        "colab": {
          "base_uri": "https://localhost:8080/"
        },
        "id": "LXnyDbjq4gJl",
        "outputId": "f80d15cf-63a7-4f65-d3d3-c1294512b463"
      },
      "source": [
        "print(reversed_dictionary)"
      ],
      "execution_count": 59,
      "outputs": [
        {
          "output_type": "stream",
          "text": [
            "{1: 'a', 2: 'b'}\n"
          ],
          "name": "stdout"
        }
      ]
    },
    {
      "cell_type": "code",
      "metadata": {
        "id": "9mjRfETd4h2b"
      },
      "source": [
        "#printing wrong second max..\n",
        "def secondMax(n):\n",
        "  n.sort()\n",
        "  return n[1]"
      ],
      "execution_count": 4,
      "outputs": []
    },
    {
      "cell_type": "code",
      "metadata": {
        "id": "NN-dodAHL5Ig"
      },
      "source": [
        "listtt = [1,1,2,3]"
      ],
      "execution_count": 10,
      "outputs": []
    },
    {
      "cell_type": "code",
      "metadata": {
        "colab": {
          "base_uri": "https://localhost:8080/"
        },
        "id": "agiJhjO8L68U",
        "outputId": "b878de8a-a1f9-420b-a74f-fb2767e19c08"
      },
      "source": [
        "secondMax(listtt)"
      ],
      "execution_count": 11,
      "outputs": [
        {
          "output_type": "execute_result",
          "data": {
            "text/plain": [
              "1"
            ]
          },
          "metadata": {
            "tags": []
          },
          "execution_count": 11
        }
      ]
    },
    {
      "cell_type": "code",
      "metadata": {
        "id": "nDINDwY_MOFI"
      },
      "source": [
        "#efficiennt and right .. only one traveral of list\n",
        "def secondMaxEff(p):\n",
        "  if len(p) <= 1:\n",
        "    return None\n",
        "  large = p[0]\n",
        "  slarge = None\n",
        "  for x in p[1:]:\n",
        "    if x > large:\n",
        "      slarge = large \n",
        "      large = x\n",
        "    elif x != large:\n",
        "      if slarge == None or slarge < x:\n",
        "        slarge = x\n",
        "\n",
        "  return slarge\n",
        "  "
      ],
      "execution_count": 21,
      "outputs": []
    },
    {
      "cell_type": "code",
      "metadata": {
        "colab": {
          "base_uri": "https://localhost:8080/"
        },
        "id": "G6T1GpuZOx_Q",
        "outputId": "9b0d5239-5d65-4fdc-d94e-9d2226e5aa9d"
      },
      "source": [
        "secondMaxEff(listtt)\n"
      ],
      "execution_count": 22,
      "outputs": [
        {
          "output_type": "execute_result",
          "data": {
            "text/plain": [
              "2"
            ]
          },
          "metadata": {
            "tags": []
          },
          "execution_count": 22
        }
      ]
    },
    {
      "cell_type": "code",
      "metadata": {
        "colab": {
          "base_uri": "https://localhost:8080/"
        },
        "id": "5AMFYfPtPbyk",
        "outputId": "16b9a565-d290-453d-8ec3-e69bf491bcba"
      },
      "source": [
        "def reversedList(l):\n",
        "  s = 0\n",
        "  e =len(l) - 1\n",
        "\n",
        "  while s < e:\n",
        "    l[s], l[e] = l[e], l[s]\n",
        "    s = s + 1\n",
        "    e = e -1\n",
        "\n",
        "l = [ int(x) for x in input().split(',')]\n",
        "reversedList(l)\n",
        "print(l)"
      ],
      "execution_count": 1,
      "outputs": [
        {
          "output_type": "stream",
          "text": [
            "10,20,30\n",
            "[30, 20, 10]\n"
          ],
          "name": "stdout"
        }
      ]
    },
    {
      "cell_type": "code",
      "metadata": {
        "colab": {
          "base_uri": "https://localhost:8080/"
        },
        "id": "uCOhqjyA519d",
        "outputId": "edb08e64-9290-4a48-e79c-6bc4a39d6791"
      },
      "source": [
        "def reverse(l,b,e): #b = begin index, e = end index\n",
        "    while b<e:\n",
        "        l[b],l[e]=l[e],l[b]\n",
        "        b=b+1\n",
        "        e=e-1\n",
        "\n",
        "\n",
        "def leftRotate(l,d):\n",
        "    n=len(l)\n",
        "    reverse(l,0,d-1)\n",
        "    reverse(l,d,n-1)\n",
        "    reverse(l,0,n-1)\n",
        "\n",
        "\n",
        "l=[10,20,30,40,50]\n",
        "d=3\n",
        "leftRotate(l, d)\n",
        "print(l)\n"
      ],
      "execution_count": 3,
      "outputs": [
        {
          "output_type": "stream",
          "text": [
            "[40, 50, 10, 20, 30]\n"
          ],
          "name": "stdout"
        }
      ]
    },
    {
      "cell_type": "code",
      "metadata": {
        "id": "v53jmOWNbv7n"
      },
      "source": [
        ""
      ],
      "execution_count": null,
      "outputs": []
    }
  ]
}